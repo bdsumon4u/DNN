{
 "cells": [
  {
   "cell_type": "code",
   "execution_count": 1,
   "id": "d3cccb92",
   "metadata": {},
   "outputs": [
    {
     "name": "stderr",
     "output_type": "stream",
     "text": [
      "2025-07-18 20:35:47.100427: E external/local_xla/xla/stream_executor/cuda/cuda_dnn.cc:9261] Unable to register cuDNN factory: Attempting to register factory for plugin cuDNN when one has already been registered\n",
      "2025-07-18 20:35:47.100455: E external/local_xla/xla/stream_executor/cuda/cuda_fft.cc:607] Unable to register cuFFT factory: Attempting to register factory for plugin cuFFT when one has already been registered\n",
      "2025-07-18 20:35:47.101693: E external/local_xla/xla/stream_executor/cuda/cuda_blas.cc:1515] Unable to register cuBLAS factory: Attempting to register factory for plugin cuBLAS when one has already been registered\n",
      "2025-07-18 20:35:47.107286: I tensorflow/core/platform/cpu_feature_guard.cc:182] This TensorFlow binary is optimized to use available CPU instructions in performance-critical operations.\n",
      "To enable the following instructions: AVX2 FMA, in other operations, rebuild TensorFlow with the appropriate compiler flags.\n",
      "2025-07-18 20:35:47.913385: W tensorflow/compiler/tf2tensorrt/utils/py_utils.cc:38] TF-TRT Warning: Could not find TensorRT\n",
      "2025-07-18 20:35:49.542525: I external/local_xla/xla/stream_executor/cuda/cuda_executor.cc:901] successful NUMA node read from SysFS had negative value (-1), but there must be at least one NUMA node, so returning NUMA node zero. See more at https://github.com/torvalds/linux/blob/v6.0/Documentation/ABI/testing/sysfs-bus-pci#L344-L355\n",
      "2025-07-18 20:35:49.587994: W tensorflow/core/common_runtime/gpu/gpu_device.cc:2256] Cannot dlopen some GPU libraries. Please make sure the missing libraries mentioned above are installed properly if you would like to use GPU. Follow the guide at https://www.tensorflow.org/install/gpu for how to download and setup the required libraries for your platform.\n",
      "Skipping registering GPU devices...\n"
     ]
    }
   ],
   "source": [
    "%%capture\n",
    "%pip install nbformat\n",
    "%run utils.ipynb"
   ]
  },
  {
   "cell_type": "code",
   "execution_count": 2,
   "id": "44fd87a8",
   "metadata": {},
   "outputs": [],
   "source": [
    "train_noise = sample_noise(x_train.shape)\n",
    "test_noise = sample_noise(x_test.shape)"
   ]
  },
  {
   "cell_type": "code",
   "execution_count": 3,
   "id": "0700a7f2",
   "metadata": {},
   "outputs": [],
   "source": [
    "noise_factor = 0.5\n",
    "noisy_x_train = x_train + noise_factor * sample_noise(x_train.shape)\n",
    "noisy_x_train = np.clip(noisy_x_train, 0., 1.)\n",
    "\n",
    "noisy_x_test = x_test + noise_factor * sample_noise(x_test.shape)\n",
    "noisy_x_test = np.clip(noisy_x_test, 0., 1.)"
   ]
  },
  {
   "cell_type": "code",
   "execution_count": 4,
   "id": "7bb5f01f",
   "metadata": {},
   "outputs": [
    {
     "name": "stdout",
     "output_type": "stream",
     "text": [
      "Model: \"model_2\"\n",
      "____________________________________________________________________________\n",
      " Layer (type)                Output Shape              Param #   Trainable  \n",
      "============================================================================\n",
      " input_1 (InputLayer)        [(None, 28, 28, 1)]       0         Y          \n",
      "                                                                            \n",
      " model (Functional)          (None, 64)                428608    Y          \n",
      "                                                                            \n",
      " model_1 (Functional)        (None, 28, 28, 1)         468545    Y          \n",
      "                                                                            \n",
      "============================================================================\n",
      "Total params: 897153 (3.42 MB)\n",
      "Trainable params: 897153 (3.42 MB)\n",
      "Non-trainable params: 0 (0.00 Byte)\n",
      "____________________________________________________________________________\n",
      "Epoch 1/5\n",
      "469/469 [==============================] - 47s 98ms/step - loss: 0.2152 - val_loss: 0.2098\n",
      "Epoch 2/5\n",
      "469/469 [==============================] - 47s 101ms/step - loss: 0.2098 - val_loss: 0.2103\n",
      "Epoch 3/5\n",
      "469/469 [==============================] - 50s 106ms/step - loss: 0.2098 - val_loss: 0.2098\n",
      "Epoch 4/5\n",
      "469/469 [==============================] - 50s 106ms/step - loss: 0.2097 - val_loss: 0.2097\n",
      "Epoch 5/5\n",
      "469/469 [==============================] - 51s 109ms/step - loss: 0.2097 - val_loss: 0.2098\n"
     ]
    },
    {
     "data": {
      "text/plain": [
       "<keras.src.callbacks.History at 0x70314367a050>"
      ]
     },
     "execution_count": 4,
     "metadata": {},
     "output_type": "execute_result"
    }
   ],
   "source": [
    "denoising_autoencoder = models.Model(encoder.input, decoder(encoder(encoder.input)))\n",
    "denoising_autoencoder.summary(show_trainable=True)\n",
    "denoising_autoencoder.compile(optimizer='adam', loss='mae')\n",
    "denoising_autoencoder.fit(noisy_x_train, x_train, epochs=5, batch_size=128, validation_data=(noisy_x_test, x_test))"
   ]
  },
  {
   "cell_type": "code",
   "execution_count": 5,
   "id": "82b66de2",
   "metadata": {},
   "outputs": [
    {
     "name": "stdout",
     "output_type": "stream",
     "text": [
      "1/1 [==============================] - 0s 110ms/step\n"
     ]
    },
    {
     "data": {
      "image/png": "[encoded data removed]",
      "text/plain": [
       "<Figure size 1000x200 with 5 Axes>"
      ]
     },
     "metadata": {},
     "output_type": "display_data"
    }
   ],
   "source": [
    "# Generate images from noise\n",
    "noise = sample_noise((5, latent_dim))\n",
    "generated = decoder.predict(noise)\n",
    "show_images(generated, \"Assignment 2: Denoising Autoencoder\")"
   ]
  },
  {
   "cell_type": "code",
   "execution_count": null,
   "id": "9823c2f9",
   "metadata": {},
   "outputs": [],
   "source": []
  }
 ],
 "metadata": {
  "kernelspec": {
   "display_name": "Python 3",
   "language": "python",
   "name": "python3"
  },
  "language_info": {
   "codemirror_mode": {
    "name": "ipython",
    "version": 3
   },
   "file_extension": ".py",
   "mimetype": "text/x-python",
   "name": "python",
   "nbconvert_exporter": "python",
   "pygments_lexer": "ipython3",
   "version": "3.11.8"
  }
 },
 "nbformat": 4,
 "nbformat_minor": 5
}
