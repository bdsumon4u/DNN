{
 "cells": [
  {
   "cell_type": "code",
   "execution_count": null,
   "id": "0b3be54c",
   "metadata": {},
   "outputs": [],
   "source": [
    "import numpy as np\n",
    "import tensorflow as tf\n",
    "from sklearn.manifold import TSNE\n",
    "from matplotlib import pyplot as plt\n",
    "from tensorflow.keras import layers, models"
   ]
  },
  {
   "cell_type": "code",
   "execution_count": null,
   "id": "2ce26f10",
   "metadata": {},
   "outputs": [],
   "source": [
    "(x_train, y_train), (x_test, y_test) = tf.keras.datasets.fashion_mnist.load_data()\n",
    "x_train = x_train[..., None] / 255.0\n",
    "x_test = x_test[..., None] / 255.0\n",
    "input_shape = x_train.shape[1:]\n",
    "latent_dim = 64"
   ]
  },
  {
   "cell_type": "code",
   "execution_count": null,
   "id": "a0a2be32",
   "metadata": {},
   "outputs": [],
   "source": [
    "def show_images(images, title):\n",
    "    plt.figure(figsize=(10, 2))\n",
    "    for i, img in enumerate(images):\n",
    "        plt.subplot(1, 5, i + 1)\n",
    "        plt.imshow(img.squeeze(), cmap='gray')\n",
    "        plt.axis('off')\n",
    "    plt.suptitle(title)\n",
    "    plt.show()"
   ]
  },
  {
   "cell_type": "code",
   "execution_count": null,
   "id": "73c525b2",
   "metadata": {},
   "outputs": [],
   "source": [
    "def sample_noise(size):\n",
    "    return np.random.normal(5.0, 1.0, size)"
   ]
  },
  {
   "cell_type": "code",
   "execution_count": null,
   "id": "1c29b951",
   "metadata": {},
   "outputs": [],
   "source": [
    "# Encoder\n",
    "input_layer = layers.Input(shape=input_shape)\n",
    "x = layers.Conv2D(32, (3, 3), activation='relu', padding='same')(input_layer)\n",
    "x = layers.MaxPooling2D((2, 2), padding='same')(x)\n",
    "x = layers.Conv2D(64, (3, 3), activation='relu', padding='same')(x)\n",
    "x = layers.MaxPooling2D((2, 2), padding='same')(x)\n",
    "x = layers.Flatten()(x)\n",
    "x = layers.Dense(128, activation='relu')(x)\n",
    "latent = layers.Dense(latent_dim, activation='relu')(x)\n",
    "encoder = models.Model(input_layer, latent)\n",
    "\n",
    "# Decoder\n",
    "decoder_input = layers.Input(shape=(latent_dim,))\n",
    "x = layers.Dense(128, activation='relu')(decoder_input)\n",
    "x = layers.Dense(7*7*64, activation='relu')(x)\n",
    "x = layers.Reshape((7, 7, 64))(x)\n",
    "x = layers.Conv2DTranspose(64, (3, 3), strides=2, activation='relu', padding='same')(x)\n",
    "x = layers.Conv2DTranspose(32, (3, 3), strides=2, activation='relu', padding='same')(x)\n",
    "output_layer = layers.Conv2D(1, (3, 3), activation='sigmoid', padding='same')(x)\n",
    "decoder = models.Model(decoder_input, output_layer)"
   ]
  }
 ],
 "metadata": {
  "language_info": {
   "name": "python"
  }
 },
 "nbformat": 4,
 "nbformat_minor": 5
}
