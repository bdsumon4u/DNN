{
  "nbformat": 4,
  "nbformat_minor": 0,
  "metadata": {
    "colab": {
      "provenance": [],
      "gpuType": "T4"
    },
    "kernelspec": {
      "name": "python3",
      "display_name": "Python 3"
    },
    "language_info": {
      "name": "python"
    },
    "accelerator": "GPU"
  },
  "cells": [
    {
      "cell_type": "code",
      "execution_count": null,
      "metadata": {
        "id": "2zHNE3X2zEyL",
        "colab": {
          "base_uri": "https://localhost:8080/"
        },
        "outputId": "9fdc4dbf-9a6f-459d-c14c-dad589f29e03"
      },
      "outputs": [
        {
          "output_type": "stream",
          "name": "stdout",
          "text": [
            "✅ GPU is available: [PhysicalDevice(name='/physical_device:GPU:0', device_type='GPU')]\n"
          ]
        }
      ],
      "source": [
        "import tensorflow as tf\n",
        "\n",
        "# Check GPU availability\n",
        "gpus = tf.config.list_physical_devices('GPU')\n",
        "if gpus:\n",
        "    print(\"✅ GPU is available:\", gpus)\n",
        "    tf.config.experimental.set_memory_growth(gpus[0], True)\n",
        "else:\n",
        "    print(\"❌ No GPU detected. Will use CPU.\")"
      ]
    },
    {
      "cell_type": "code",
      "source": [
        "!unzip /content/drive/MyDrive/archive.zip"
      ],
      "metadata": {
        "colab": {
          "base_uri": "https://localhost:8080/"
        },
        "id": "1aaNLtLtzHf9",
        "outputId": "db6651b5-bf4b-4050-8a16-ee4a88591ac5"
      },
      "execution_count": null,
      "outputs": [
        {
          "output_type": "stream",
          "name": "stdout",
          "text": [
            "Archive:  /content/drive/MyDrive/archive.zip\n",
            "replace Flower Classification V2/V2/TFRecords/Test/Aster_1.tfrecord? [y]es, [n]o, [A]ll, [N]one, [r]ename: "
          ]
        }
      ]
    },
    {
      "cell_type": "code",
      "source": [
        "from tensorflow.keras.applications import MobileNetV3Large"
      ],
      "metadata": {
        "id": "gDRLm1tkqO3j"
      },
      "execution_count": 25,
      "outputs": []
    },
    {
      "cell_type": "code",
      "source": [
        "### ========== IMPORTS AND GPU SETUP ==========\n",
        "import tensorflow as tf\n",
        "from tensorflow.keras import layers, models\n",
        "from tensorflow.keras.applications import VGG16, MobileNetV2, MobileNetV3Small\n",
        "from tensorflow.keras.preprocessing.image import ImageDataGenerator\n",
        "from tensorflow.keras import Model, Input\n",
        "from tensorflow.keras.layers import Dense, GlobalAveragePooling2D\n",
        "from tensorflow.keras.callbacks import ModelCheckpoint\n",
        "from sklearn.metrics import classification_report, confusion_matrix\n",
        "import matplotlib.pyplot as plt\n",
        "import seaborn as sns\n",
        "import numpy as np\n",
        "\n",
        "# GPU setup\n",
        "gpus = tf.config.list_physical_devices('GPU')\n",
        "if gpus:\n",
        "    print(\"\\u2705 GPU is available:\", gpus)\n",
        "    tf.config.experimental.set_memory_growth(gpus[0], True)\n",
        "else:\n",
        "    print(\"\\u274C No GPU detected. Using CPU.\")\n",
        "\n",
        "\n",
        "### ========== DATA PREPARATION ==========\n",
        "data_dir = \"/content/Flower Classification V2/V2/Training Data\"\n",
        "img_height, img_width = 96, 96\n",
        "batch_size = 32\n",
        "\n",
        "datagen = ImageDataGenerator(rescale=1./255, validation_split=0.2,\n",
        "                             shear_range=0.1, zoom_range=0.2, horizontal_flip=True)\n",
        "\n",
        "train_ds = datagen.flow_from_directory(data_dir, target_size=(img_height, img_width),\n",
        "                                       batch_size=batch_size, class_mode='categorical',\n",
        "                                       subset='training', shuffle=True)\n",
        "\n",
        "test_ds = datagen.flow_from_directory(data_dir, target_size=(img_height, img_width),\n",
        "                                      batch_size=batch_size, class_mode='categorical',\n",
        "                                      subset='validation', shuffle=False)\n",
        "\n",
        "num_classes = train_ds.num_classes\n",
        "\n",
        "\n",
        "### ========== MODEL DEFINITIONS ==========\n",
        "def build_student_model(input_shape=(96, 96, 3), num_classes=10):\n",
        "    model = models.Sequential([\n",
        "        layers.Conv2D(32, (3, 3), activation='relu', input_shape=input_shape),\n",
        "        layers.MaxPooling2D((2, 2)),\n",
        "        layers.Conv2D(64, (3, 3), activation='relu'),\n",
        "        layers.MaxPooling2D((2, 2)),\n",
        "        layers.Flatten(),\n",
        "        layers.Dense(128, activation='relu'),\n",
        "        layers.Dense(num_classes, activation='softmax')\n",
        "    ])\n",
        "    return model\n",
        "\n",
        "def build_teacher_model(base_model_fn, input_shape=(96, 96, 3), num_classes=10):\n",
        "    base = base_model_fn(weights='imagenet', include_top=False, input_shape=input_shape)\n",
        "    for layer in base.layers[:-4]:\n",
        "      layer.trainable = False\n",
        "    for layer in base.layers[-4:]:\n",
        "      layer.trainable = True\n",
        "    inputs = Input(shape=input_shape)\n",
        "    x = base(inputs, training=False)\n",
        "    x = GlobalAveragePooling2D()(x)\n",
        "    outputs = Dense(num_classes, activation='softmax')(x)\n",
        "    return Model(inputs, outputs)\n",
        "\n",
        "\n",
        "### ========== DISTILLATION CLASSES ==========\n",
        "class Distiller(tf.keras.Model):\n",
        "    def __init__(self, student, teacher, temperature=3.0, alpha=0.5):\n",
        "        super().__init__()\n",
        "        self.student = student\n",
        "        self.teacher = teacher\n",
        "        self.temperature = temperature\n",
        "        self.alpha = alpha\n",
        "        self.student_loss_fn = tf.keras.losses.CategoricalCrossentropy()\n",
        "        self.distillation_loss_fn = tf.keras.losses.KLDivergence()\n",
        "        self.loss_tracker = tf.keras.metrics.Mean(name=\"loss\")\n",
        "        self.acc_tracker = tf.keras.metrics.CategoricalAccuracy()\n",
        "\n",
        "    def compile(self, optimizer):\n",
        "        super().compile()\n",
        "        if isinstance(optimizer, str):\n",
        "            self.optimizer = tf.keras.optimizers.get(optimizer)\n",
        "        else:\n",
        "            self.optimizer = optimizer\n",
        "\n",
        "    def train_step(self, data):\n",
        "        x, y = data\n",
        "        teacher_preds = self.teacher(x, training=False)\n",
        "        with tf.GradientTape() as tape:\n",
        "            student_preds = self.student(x, training=True)\n",
        "            student_loss = self.student_loss_fn(y, student_preds)\n",
        "            distill_loss = self.distillation_loss_fn(\n",
        "                tf.nn.softmax(teacher_preds / self.temperature, axis=1),\n",
        "                tf.nn.softmax(student_preds / self.temperature, axis=1))\n",
        "            loss = self.alpha * student_loss + (1 - self.alpha) * distill_loss\n",
        "        grads = tape.gradient(loss, self.student.trainable_variables)\n",
        "        self.optimizer.apply_gradients(zip(grads, self.student.trainable_variables))\n",
        "        self.loss_tracker.update_state(loss)\n",
        "        self.acc_tracker.update_state(y, student_preds)\n",
        "        return {\"loss\": self.loss_tracker.result(), \"accuracy\": self.acc_tracker.result()}\n",
        "\n",
        "    def test_step(self, data):\n",
        "        x, y = data\n",
        "        preds = self.student(x, training=False)\n",
        "        self.acc_tracker.update_state(y, preds)\n",
        "        return {\"accuracy\": self.acc_tracker.result()}\n",
        "\n",
        "class MultiTeacherDistiller(Distiller):\n",
        "    def __init__(self, student, teacher1, teacher2, temperature=3.0, alpha=0.5):\n",
        "        super().__init__(student, teacher1, temperature, alpha)\n",
        "        self.teacher2 = teacher2\n",
        "\n",
        "    def train_step(self, data):\n",
        "        x, y = data\n",
        "        t1 = self.teacher(x, training=False)\n",
        "        t2 = self.teacher2(x, training=False)\n",
        "        avg = (t1 + t2) / 2.0\n",
        "        with tf.GradientTape() as tape:\n",
        "            preds = self.student(x, training=True)\n",
        "            student_loss = self.student_loss_fn(y, preds)\n",
        "            distill_loss = self.distillation_loss_fn(\n",
        "                tf.nn.softmax(avg / self.temperature, axis=1),\n",
        "                tf.nn.softmax(preds / self.temperature, axis=1))\n",
        "            loss = self.alpha * student_loss + (1 - self.alpha) * distill_loss\n",
        "        grads = tape.gradient(loss, self.student.trainable_variables)\n",
        "        self.optimizer.apply_gradients(zip(grads, self.student.trainable_variables))\n",
        "        self.loss_tracker.update_state(loss)\n",
        "        self.acc_tracker.update_state(y, preds)\n",
        "        return {\"loss\": self.loss_tracker.result(), \"accuracy\": self.acc_tracker.result()}\n",
        "\n",
        "\n",
        "\n",
        "### ========== TRAINING AND EVALUATION ==========\n"
      ],
      "metadata": {
        "colab": {
          "base_uri": "https://localhost:8080/"
        },
        "id": "sj1BALK30HAI",
        "outputId": "438bd9a2-0a94-4554-fd61-62145edf4591"
      },
      "execution_count": null,
      "outputs": [
        {
          "output_type": "stream",
          "name": "stdout",
          "text": [
            "✅ GPU is available: [PhysicalDevice(name='/physical_device:GPU:0', device_type='GPU')]\n",
            "Found 12000 images belonging to 10 classes.\n",
            "Found 3000 images belonging to 10 classes.\n"
          ]
        }
      ]
    },
    {
      "cell_type": "code",
      "source": [
        "# Build models\n",
        "teacher_mobilenet2 = build_teacher_model(MobileNetV2, num_classes=num_classes)\n",
        "teacher_mobilenet3 = build_teacher_model(MobileNetV3Small, num_classes=num_classes)\n",
        "\n",
        "models_to_train = {\n",
        "    \"student_baseline\": build_student_model(num_classes=num_classes),\n",
        "    \"teacher_mobilenet2\": teacher_mobilenet2,\n",
        "    \"teacher_mobilenet3\": teacher_mobilenet3,\n",
        "    \"student_single\": build_student_model(num_classes=num_classes),\n",
        "    \"student_multi\": build_student_model(num_classes=num_classes),\n",
        "}\n",
        "\n",
        "# Compile and train\n",
        "histories = {}\n",
        "eval_results = {}\n",
        "\n",
        "for name, model in models_to_train.items():\n",
        "    model.compile(optimizer='adam', loss='categorical_crossentropy', metrics=['accuracy'])\n",
        "    if \"teacher\" in name or \"student_baseline\" in name:\n",
        "        cb = tf.keras.callbacks.EarlyStopping(monitor='val_accuracy', patience=10, restore_best_weights=True, verbose=1)\n",
        "        histories[name] = model.fit(train_ds, validation_data=test_ds, epochs=30, callbacks=[cb])\n",
        "        # model.load_weights(...) removed due to restore_best_weights=True\n",
        "        eval_results[name] = dict(zip(['loss', 'acc'], model.evaluate(test_ds, verbose=0)))\n"
      ],
      "metadata": {
        "colab": {
          "base_uri": "https://localhost:8080/"
        },
        "id": "6QTup1vk0sO3",
        "outputId": "1e52179e-9069-436e-fdbe-7dd117a59334"
      },
      "execution_count": 21,
      "outputs": [
        {
          "metadata": {
            "tags": null
          },
          "name": "stderr",
          "output_type": "stream",
          "text": [
            "/usr/local/lib/python3.11/dist-packages/keras/src/applications/mobilenet_v3.py:452: UserWarning: `input_shape` is undefined or non-square, or `rows` is not 224. Weights for input shape (224, 224) will be loaded as the default.\n",
            "  return MobileNetV3(\n"
          ]
        },
        {
          "metadata": {
            "tags": null
          },
          "name": "stdout",
          "output_type": "stream",
          "text": [
            "Downloading data from https://storage.googleapis.com/tensorflow/keras-applications/mobilenet_v3/weights_mobilenet_v3_small_224_1.0_float_no_top_v2.h5\n",
            "\u001b[1m4334752/4334752\u001b[0m \u001b[32m━━━━━━━━━━━━━━━━━━━━\u001b[0m\u001b[37m\u001b[0m \u001b[1m0s\u001b[0m 0us/step\n"
          ]
        },
        {
          "metadata": {
            "tags": null
          },
          "name": "stderr",
          "output_type": "stream",
          "text": [
            "/usr/local/lib/python3.11/dist-packages/keras/src/layers/convolutional/base_conv.py:107: UserWarning: Do not pass an `input_shape`/`input_dim` argument to a layer. When using Sequential models, prefer using an `Input(shape)` object as the first layer in the model instead.\n",
            "  super().__init__(activity_regularizer=activity_regularizer, **kwargs)\n",
            "/usr/local/lib/python3.11/dist-packages/keras/src/trainers/data_adapters/py_dataset_adapter.py:121: UserWarning: Your `PyDataset` class should call `super().__init__(**kwargs)` in its constructor. `**kwargs` can include `workers`, `use_multiprocessing`, `max_queue_size`. Do not pass these arguments to `fit()`, as they will be ignored.\n",
            "  self._warn_if_super_not_called()\n"
          ]
        },
        {
          "output_type": "stream",
          "name": "stdout",
          "text": [
            "Epoch 1/30\n",
            "\u001b[1m375/375\u001b[0m \u001b[32m━━━━━━━━━━━━━━━━━━━━\u001b[0m\u001b[37m\u001b[0m \u001b[1m51s\u001b[0m 131ms/step - accuracy: 0.3635 - loss: 1.8365 - val_accuracy: 0.4843 - val_loss: 1.4815\n",
            "Epoch 2/30\n",
            "\u001b[1m375/375\u001b[0m \u001b[32m━━━━━━━━━━━━━━━━━━━━\u001b[0m\u001b[37m\u001b[0m \u001b[1m47s\u001b[0m 125ms/step - accuracy: 0.5323 - loss: 1.3619 - val_accuracy: 0.5997 - val_loss: 1.2442\n",
            "Epoch 3/30\n",
            "\u001b[1m375/375\u001b[0m \u001b[32m━━━━━━━━━━━━━━━━━━━━\u001b[0m\u001b[37m\u001b[0m \u001b[1m48s\u001b[0m 129ms/step - accuracy: 0.5856 - loss: 1.2048 - val_accuracy: 0.5980 - val_loss: 1.1934\n",
            "Epoch 4/30\n",
            "\u001b[1m375/375\u001b[0m \u001b[32m━━━━━━━━━━━━━━━━━━━━\u001b[0m\u001b[37m\u001b[0m \u001b[1m46s\u001b[0m 124ms/step - accuracy: 0.6231 - loss: 1.1132 - val_accuracy: 0.6250 - val_loss: 1.1832\n",
            "Epoch 5/30\n",
            "\u001b[1m375/375\u001b[0m \u001b[32m━━━━━━━━━━━━━━━━━━━━\u001b[0m\u001b[37m\u001b[0m \u001b[1m48s\u001b[0m 127ms/step - accuracy: 0.6716 - loss: 0.9866 - val_accuracy: 0.6237 - val_loss: 1.2195\n",
            "Epoch 6/30\n",
            "\u001b[1m375/375\u001b[0m \u001b[32m━━━━━━━━━━━━━━━━━━━━\u001b[0m\u001b[37m\u001b[0m \u001b[1m47s\u001b[0m 124ms/step - accuracy: 0.6943 - loss: 0.9133 - val_accuracy: 0.6583 - val_loss: 1.0596\n",
            "Epoch 7/30\n",
            "\u001b[1m375/375\u001b[0m \u001b[32m━━━━━━━━━━━━━━━━━━━━\u001b[0m\u001b[37m\u001b[0m \u001b[1m48s\u001b[0m 128ms/step - accuracy: 0.7177 - loss: 0.8536 - val_accuracy: 0.6460 - val_loss: 1.1408\n",
            "Epoch 8/30\n",
            "\u001b[1m375/375\u001b[0m \u001b[32m━━━━━━━━━━━━━━━━━━━━\u001b[0m\u001b[37m\u001b[0m \u001b[1m47s\u001b[0m 125ms/step - accuracy: 0.7375 - loss: 0.7819 - val_accuracy: 0.6453 - val_loss: 1.0856\n",
            "Epoch 9/30\n",
            "\u001b[1m375/375\u001b[0m \u001b[32m━━━━━━━━━━━━━━━━━━━━\u001b[0m\u001b[37m\u001b[0m \u001b[1m49s\u001b[0m 130ms/step - accuracy: 0.7557 - loss: 0.7280 - val_accuracy: 0.6650 - val_loss: 1.1380\n",
            "Epoch 10/30\n",
            "\u001b[1m375/375\u001b[0m \u001b[32m━━━━━━━━━━━━━━━━━━━━\u001b[0m\u001b[37m\u001b[0m \u001b[1m81s\u001b[0m 127ms/step - accuracy: 0.7751 - loss: 0.6724 - val_accuracy: 0.6377 - val_loss: 1.2708\n",
            "Epoch 11/30\n",
            "\u001b[1m375/375\u001b[0m \u001b[32m━━━━━━━━━━━━━━━━━━━━\u001b[0m\u001b[37m\u001b[0m \u001b[1m46s\u001b[0m 124ms/step - accuracy: 0.7926 - loss: 0.6274 - val_accuracy: 0.6427 - val_loss: 1.2857\n",
            "Epoch 12/30\n",
            "\u001b[1m375/375\u001b[0m \u001b[32m━━━━━━━━━━━━━━━━━━━━\u001b[0m\u001b[37m\u001b[0m \u001b[1m48s\u001b[0m 127ms/step - accuracy: 0.8053 - loss: 0.5791 - val_accuracy: 0.6530 - val_loss: 1.2220\n",
            "Epoch 13/30\n",
            "\u001b[1m375/375\u001b[0m \u001b[32m━━━━━━━━━━━━━━━━━━━━\u001b[0m\u001b[37m\u001b[0m \u001b[1m46s\u001b[0m 124ms/step - accuracy: 0.8239 - loss: 0.5339 - val_accuracy: 0.6510 - val_loss: 1.2768\n",
            "Epoch 14/30\n",
            "\u001b[1m375/375\u001b[0m \u001b[32m━━━━━━━━━━━━━━━━━━━━\u001b[0m\u001b[37m\u001b[0m \u001b[1m48s\u001b[0m 129ms/step - accuracy: 0.8476 - loss: 0.4643 - val_accuracy: 0.6610 - val_loss: 1.2260\n",
            "Epoch 15/30\n",
            "\u001b[1m375/375\u001b[0m \u001b[32m━━━━━━━━━━━━━━━━━━━━\u001b[0m\u001b[37m\u001b[0m \u001b[1m47s\u001b[0m 124ms/step - accuracy: 0.8550 - loss: 0.4314 - val_accuracy: 0.6693 - val_loss: 1.3732\n",
            "Epoch 16/30\n",
            "\u001b[1m375/375\u001b[0m \u001b[32m━━━━━━━━━━━━━━━━━━━━\u001b[0m\u001b[37m\u001b[0m \u001b[1m48s\u001b[0m 128ms/step - accuracy: 0.8643 - loss: 0.4021 - val_accuracy: 0.6440 - val_loss: 1.5373\n",
            "Epoch 17/30\n",
            "\u001b[1m375/375\u001b[0m \u001b[32m━━━━━━━━━━━━━━━━━━━━\u001b[0m\u001b[37m\u001b[0m \u001b[1m46s\u001b[0m 124ms/step - accuracy: 0.8705 - loss: 0.3818 - val_accuracy: 0.6647 - val_loss: 1.4091\n",
            "Epoch 18/30\n",
            "\u001b[1m375/375\u001b[0m \u001b[32m━━━━━━━━━━━━━━━━━━━━\u001b[0m\u001b[37m\u001b[0m \u001b[1m48s\u001b[0m 129ms/step - accuracy: 0.8864 - loss: 0.3492 - val_accuracy: 0.6587 - val_loss: 1.4038\n",
            "Epoch 19/30\n",
            "\u001b[1m375/375\u001b[0m \u001b[32m━━━━━━━━━━━━━━━━━━━━\u001b[0m\u001b[37m\u001b[0m \u001b[1m47s\u001b[0m 125ms/step - accuracy: 0.8825 - loss: 0.3472 - val_accuracy: 0.6523 - val_loss: 1.6090\n",
            "Epoch 20/30\n",
            "\u001b[1m375/375\u001b[0m \u001b[32m━━━━━━━━━━━━━━━━━━━━\u001b[0m\u001b[37m\u001b[0m \u001b[1m48s\u001b[0m 129ms/step - accuracy: 0.8991 - loss: 0.3107 - val_accuracy: 0.6527 - val_loss: 1.5103\n",
            "Epoch 21/30\n",
            "\u001b[1m375/375\u001b[0m \u001b[32m━━━━━━━━━━━━━━━━━━━━\u001b[0m\u001b[37m\u001b[0m \u001b[1m47s\u001b[0m 125ms/step - accuracy: 0.8960 - loss: 0.2939 - val_accuracy: 0.6657 - val_loss: 1.6036\n",
            "Epoch 22/30\n",
            "\u001b[1m375/375\u001b[0m \u001b[32m━━━━━━━━━━━━━━━━━━━━\u001b[0m\u001b[37m\u001b[0m \u001b[1m48s\u001b[0m 129ms/step - accuracy: 0.9090 - loss: 0.2741 - val_accuracy: 0.6767 - val_loss: 1.6520\n",
            "Epoch 23/30\n",
            "\u001b[1m375/375\u001b[0m \u001b[32m━━━━━━━━━━━━━━━━━━━━\u001b[0m\u001b[37m\u001b[0m \u001b[1m47s\u001b[0m 125ms/step - accuracy: 0.9178 - loss: 0.2492 - val_accuracy: 0.6590 - val_loss: 1.7601\n",
            "Epoch 24/30\n",
            "\u001b[1m375/375\u001b[0m \u001b[32m━━━━━━━━━━━━━━━━━━━━\u001b[0m\u001b[37m\u001b[0m \u001b[1m48s\u001b[0m 128ms/step - accuracy: 0.9200 - loss: 0.2417 - val_accuracy: 0.6677 - val_loss: 1.6468\n",
            "Epoch 25/30\n",
            "\u001b[1m375/375\u001b[0m \u001b[32m━━━━━━━━━━━━━━━━━━━━\u001b[0m\u001b[37m\u001b[0m \u001b[1m47s\u001b[0m 124ms/step - accuracy: 0.9194 - loss: 0.2380 - val_accuracy: 0.6560 - val_loss: 1.7546\n",
            "Epoch 26/30\n",
            "\u001b[1m375/375\u001b[0m \u001b[32m━━━━━━━━━━━━━━━━━━━━\u001b[0m\u001b[37m\u001b[0m \u001b[1m48s\u001b[0m 129ms/step - accuracy: 0.9314 - loss: 0.2150 - val_accuracy: 0.6617 - val_loss: 1.7801\n",
            "Epoch 27/30\n",
            "\u001b[1m375/375\u001b[0m \u001b[32m━━━━━━━━━━━━━━━━━━━━\u001b[0m\u001b[37m\u001b[0m \u001b[1m47s\u001b[0m 125ms/step - accuracy: 0.9354 - loss: 0.2023 - val_accuracy: 0.6657 - val_loss: 1.7373\n",
            "Epoch 28/30\n",
            "\u001b[1m375/375\u001b[0m \u001b[32m━━━━━━━━━━━━━━━━━━━━\u001b[0m\u001b[37m\u001b[0m \u001b[1m48s\u001b[0m 129ms/step - accuracy: 0.9350 - loss: 0.1958 - val_accuracy: 0.6640 - val_loss: 1.7724\n",
            "Epoch 29/30\n",
            "\u001b[1m375/375\u001b[0m \u001b[32m━━━━━━━━━━━━━━━━━━━━\u001b[0m\u001b[37m\u001b[0m \u001b[1m47s\u001b[0m 124ms/step - accuracy: 0.9378 - loss: 0.1939 - val_accuracy: 0.6703 - val_loss: 1.8963\n",
            "Epoch 30/30\n",
            "\u001b[1m375/375\u001b[0m \u001b[32m━━━━━━━━━━━━━━━━━━━━\u001b[0m\u001b[37m\u001b[0m \u001b[1m48s\u001b[0m 128ms/step - accuracy: 0.9425 - loss: 0.1753 - val_accuracy: 0.6557 - val_loss: 1.8759\n",
            "Restoring model weights from the end of the best epoch: 22.\n",
            "Epoch 1/30\n",
            "\u001b[1m375/375\u001b[0m \u001b[32m━━━━━━━━━━━━━━━━━━━━\u001b[0m\u001b[37m\u001b[0m \u001b[1m62s\u001b[0m 143ms/step - accuracy: 0.6117 - loss: 1.2783 - val_accuracy: 0.7263 - val_loss: 1.0712\n",
            "Epoch 2/30\n",
            "\u001b[1m375/375\u001b[0m \u001b[32m━━━━━━━━━━━━━━━━━━━━\u001b[0m\u001b[37m\u001b[0m \u001b[1m48s\u001b[0m 128ms/step - accuracy: 0.7855 - loss: 0.6549 - val_accuracy: 0.7630 - val_loss: 0.8637\n",
            "Epoch 3/30\n",
            "\u001b[1m375/375\u001b[0m \u001b[32m━━━━━━━━━━━━━━━━━━━━\u001b[0m\u001b[37m\u001b[0m \u001b[1m50s\u001b[0m 133ms/step - accuracy: 0.8206 - loss: 0.5249 - val_accuracy: 0.7610 - val_loss: 0.9054\n",
            "Epoch 4/30\n",
            "\u001b[1m375/375\u001b[0m \u001b[32m━━━━━━━━━━━━━━━━━━━━\u001b[0m\u001b[37m\u001b[0m \u001b[1m49s\u001b[0m 130ms/step - accuracy: 0.8502 - loss: 0.4350 - val_accuracy: 0.7763 - val_loss: 0.8989\n",
            "Epoch 5/30\n",
            "\u001b[1m375/375\u001b[0m \u001b[32m━━━━━━━━━━━━━━━━━━━━\u001b[0m\u001b[37m\u001b[0m \u001b[1m83s\u001b[0m 132ms/step - accuracy: 0.8812 - loss: 0.3679 - val_accuracy: 0.7737 - val_loss: 0.9390\n",
            "Epoch 6/30\n",
            "\u001b[1m375/375\u001b[0m \u001b[32m━━━━━━━━━━━━━━━━━━━━\u001b[0m\u001b[37m\u001b[0m \u001b[1m48s\u001b[0m 127ms/step - accuracy: 0.8810 - loss: 0.3427 - val_accuracy: 0.7870 - val_loss: 0.9237\n",
            "Epoch 7/30\n",
            "\u001b[1m375/375\u001b[0m \u001b[32m━━━━━━━━━━━━━━━━━━━━\u001b[0m\u001b[37m\u001b[0m \u001b[1m49s\u001b[0m 130ms/step - accuracy: 0.8986 - loss: 0.2930 - val_accuracy: 0.7893 - val_loss: 0.8914\n",
            "Epoch 8/30\n",
            "\u001b[1m375/375\u001b[0m \u001b[32m━━━━━━━━━━━━━━━━━━━━\u001b[0m\u001b[37m\u001b[0m \u001b[1m49s\u001b[0m 130ms/step - accuracy: 0.9111 - loss: 0.2668 - val_accuracy: 0.7700 - val_loss: 1.0465\n",
            "Epoch 9/30\n",
            "\u001b[1m375/375\u001b[0m \u001b[32m━━━━━━━━━━━━━━━━━━━━\u001b[0m\u001b[37m\u001b[0m \u001b[1m48s\u001b[0m 128ms/step - accuracy: 0.9155 - loss: 0.2449 - val_accuracy: 0.7770 - val_loss: 0.9908\n",
            "Epoch 10/30\n",
            "\u001b[1m375/375\u001b[0m \u001b[32m━━━━━━━━━━━━━━━━━━━━\u001b[0m\u001b[37m\u001b[0m \u001b[1m49s\u001b[0m 131ms/step - accuracy: 0.9208 - loss: 0.2330 - val_accuracy: 0.7717 - val_loss: 1.0422\n",
            "Epoch 11/30\n",
            "\u001b[1m375/375\u001b[0m \u001b[32m━━━━━━━━━━━━━━━━━━━━\u001b[0m\u001b[37m\u001b[0m \u001b[1m48s\u001b[0m 127ms/step - accuracy: 0.9248 - loss: 0.2245 - val_accuracy: 0.7877 - val_loss: 0.9656\n",
            "Epoch 12/30\n",
            "\u001b[1m375/375\u001b[0m \u001b[32m━━━━━━━━━━━━━━━━━━━━\u001b[0m\u001b[37m\u001b[0m \u001b[1m49s\u001b[0m 131ms/step - accuracy: 0.9318 - loss: 0.1982 - val_accuracy: 0.7847 - val_loss: 1.0023\n",
            "Epoch 13/30\n",
            "\u001b[1m375/375\u001b[0m \u001b[32m━━━━━━━━━━━━━━━━━━━━\u001b[0m\u001b[37m\u001b[0m \u001b[1m47s\u001b[0m 126ms/step - accuracy: 0.9422 - loss: 0.1735 - val_accuracy: 0.7777 - val_loss: 1.0849\n",
            "Epoch 14/30\n",
            "\u001b[1m375/375\u001b[0m \u001b[32m━━━━━━━━━━━━━━━━━━━━\u001b[0m\u001b[37m\u001b[0m \u001b[1m49s\u001b[0m 130ms/step - accuracy: 0.9429 - loss: 0.1712 - val_accuracy: 0.7767 - val_loss: 1.0452\n",
            "Epoch 15/30\n",
            "\u001b[1m375/375\u001b[0m \u001b[32m━━━━━━━━━━━━━━━━━━━━\u001b[0m\u001b[37m\u001b[0m \u001b[1m48s\u001b[0m 127ms/step - accuracy: 0.9426 - loss: 0.1752 - val_accuracy: 0.7827 - val_loss: 1.0914\n",
            "Epoch 16/30\n",
            "\u001b[1m375/375\u001b[0m \u001b[32m━━━━━━━━━━━━━━━━━━━━\u001b[0m\u001b[37m\u001b[0m \u001b[1m49s\u001b[0m 131ms/step - accuracy: 0.9460 - loss: 0.1570 - val_accuracy: 0.7863 - val_loss: 1.1055\n",
            "Epoch 17/30\n",
            "\u001b[1m375/375\u001b[0m \u001b[32m━━━━━━━━━━━━━━━━━━━━\u001b[0m\u001b[37m\u001b[0m \u001b[1m49s\u001b[0m 132ms/step - accuracy: 0.9578 - loss: 0.1374 - val_accuracy: 0.7883 - val_loss: 1.0792\n",
            "Epoch 17: early stopping\n",
            "Restoring model weights from the end of the best epoch: 7.\n",
            "Epoch 1/30\n",
            "\u001b[1m375/375\u001b[0m \u001b[32m━━━━━━━━━━━━━━━━━━━━\u001b[0m\u001b[37m\u001b[0m \u001b[1m66s\u001b[0m 148ms/step - accuracy: 0.1275 - loss: 2.2962 - val_accuracy: 0.1287 - val_loss: 2.3137\n",
            "Epoch 2/30\n",
            "\u001b[1m375/375\u001b[0m \u001b[32m━━━━━━━━━━━━━━━━━━━━\u001b[0m\u001b[37m\u001b[0m \u001b[1m48s\u001b[0m 129ms/step - accuracy: 0.1697 - loss: 2.2447 - val_accuracy: 0.1327 - val_loss: 2.5006\n",
            "Epoch 3/30\n",
            "\u001b[1m375/375\u001b[0m \u001b[32m━━━━━━━━━━━━━━━━━━━━\u001b[0m\u001b[37m\u001b[0m \u001b[1m47s\u001b[0m 124ms/step - accuracy: 0.1860 - loss: 2.2160 - val_accuracy: 0.1067 - val_loss: 2.6255\n",
            "Epoch 4/30\n",
            "\u001b[1m375/375\u001b[0m \u001b[32m━━━━━━━━━━━━━━━━━━━━\u001b[0m\u001b[37m\u001b[0m \u001b[1m48s\u001b[0m 128ms/step - accuracy: 0.1931 - loss: 2.1892 - val_accuracy: 0.1250 - val_loss: 2.7536\n",
            "Epoch 5/30\n",
            "\u001b[1m375/375\u001b[0m \u001b[32m━━━━━━━━━━━━━━━━━━━━\u001b[0m\u001b[37m\u001b[0m \u001b[1m46s\u001b[0m 124ms/step - accuracy: 0.2027 - loss: 2.1894 - val_accuracy: 0.1417 - val_loss: 2.5383\n",
            "Epoch 6/30\n",
            "\u001b[1m375/375\u001b[0m \u001b[32m━━━━━━━━━━━━━━━━━━━━\u001b[0m\u001b[37m\u001b[0m \u001b[1m47s\u001b[0m 126ms/step - accuracy: 0.2158 - loss: 2.1648 - val_accuracy: 0.1253 - val_loss: 2.8044\n",
            "Epoch 7/30\n",
            "\u001b[1m375/375\u001b[0m \u001b[32m━━━━━━━━━━━━━━━━━━━━\u001b[0m\u001b[37m\u001b[0m \u001b[1m47s\u001b[0m 124ms/step - accuracy: 0.2113 - loss: 2.1644 - val_accuracy: 0.1067 - val_loss: 2.4394\n",
            "Epoch 8/30\n",
            "\u001b[1m375/375\u001b[0m \u001b[32m━━━━━━━━━━━━━━━━━━━━\u001b[0m\u001b[37m\u001b[0m \u001b[1m49s\u001b[0m 131ms/step - accuracy: 0.2169 - loss: 2.1539 - val_accuracy: 0.1017 - val_loss: 3.1657\n",
            "Epoch 9/30\n",
            "\u001b[1m375/375\u001b[0m \u001b[32m━━━━━━━━━━━━━━━━━━━━\u001b[0m\u001b[37m\u001b[0m \u001b[1m47s\u001b[0m 125ms/step - accuracy: 0.2240 - loss: 2.1467 - val_accuracy: 0.1163 - val_loss: 2.9402\n",
            "Epoch 10/30\n",
            "\u001b[1m375/375\u001b[0m \u001b[32m━━━━━━━━━━━━━━━━━━━━\u001b[0m\u001b[37m\u001b[0m \u001b[1m48s\u001b[0m 129ms/step - accuracy: 0.2330 - loss: 2.1366 - val_accuracy: 0.1260 - val_loss: 2.5521\n",
            "Epoch 11/30\n",
            "\u001b[1m375/375\u001b[0m \u001b[32m━━━━━━━━━━━━━━━━━━━━\u001b[0m\u001b[37m\u001b[0m \u001b[1m47s\u001b[0m 125ms/step - accuracy: 0.2390 - loss: 2.1195 - val_accuracy: 0.1173 - val_loss: 2.6520\n",
            "Epoch 12/30\n",
            "\u001b[1m375/375\u001b[0m \u001b[32m━━━━━━━━━━━━━━━━━━━━\u001b[0m\u001b[37m\u001b[0m \u001b[1m48s\u001b[0m 129ms/step - accuracy: 0.2305 - loss: 2.1281 - val_accuracy: 0.1023 - val_loss: 3.0286\n",
            "Epoch 13/30\n",
            "\u001b[1m375/375\u001b[0m \u001b[32m━━━━━━━━━━━━━━━━━━━━\u001b[0m\u001b[37m\u001b[0m \u001b[1m47s\u001b[0m 125ms/step - accuracy: 0.2413 - loss: 2.1141 - val_accuracy: 0.1007 - val_loss: 4.6044\n",
            "Epoch 14/30\n",
            "\u001b[1m375/375\u001b[0m \u001b[32m━━━━━━━━━━━━━━━━━━━━\u001b[0m\u001b[37m\u001b[0m \u001b[1m48s\u001b[0m 129ms/step - accuracy: 0.2376 - loss: 2.1271 - val_accuracy: 0.1337 - val_loss: 2.9511\n",
            "Epoch 15/30\n",
            "\u001b[1m375/375\u001b[0m \u001b[32m━━━━━━━━━━━━━━━━━━━━\u001b[0m\u001b[37m\u001b[0m \u001b[1m47s\u001b[0m 125ms/step - accuracy: 0.2434 - loss: 2.1086 - val_accuracy: 0.1150 - val_loss: 2.5183\n",
            "Epoch 15: early stopping\n",
            "Restoring model weights from the end of the best epoch: 5.\n"
          ]
        }
      ]
    },
    {
      "cell_type": "code",
      "source": [
        "\n",
        "# Distill from single teacher\n",
        "distill_mobilenet2 = Distiller(student=models_to_train[\"student_single\"], teacher=teacher_mobilenet2)\n",
        "distill_mobilenet2.compile(optimizer='adam')\n",
        "distill_mobilenet2.fit(train_ds, validation_data=test_ds, epochs=30,\n",
        "                callbacks=[tf.keras.callbacks.EarlyStopping(monitor='val_accuracy', mode='max', patience=10, restore_best_weights=True, verbose=1)])\n",
        "# Removed: restore_best_weights=True handles loading best weights\n",
        "eval_results[\"student_single\"] = dict(zip(['loss', 'acc'], models_to_train[\"student_single\"].evaluate(test_ds, verbose=0)))\n",
        "\n",
        "# Distill from both teachers\n",
        "distill_multi = MultiTeacherDistiller(student=models_to_train[\"student_multi\"], teacher1=teacher_mobilenet2, teacher2=teacher_mobilenet3)\n",
        "distill_multi.compile(optimizer='adam')\n",
        "distill_multi.fit(train_ds, validation_data=test_ds, epochs=30,\n",
        "                  callbacks=[tf.keras.callbacks.EarlyStopping(monitor='val_accuracy', mode='max', patience=10, restore_best_weights=True, verbose=1)])\n",
        "# Removed: restore_best_weights=True handles loading best weights\n",
        "eval_results[\"student_multi\"] = dict(zip(['loss', 'acc'], models_to_train[\"student_multi\"].evaluate(test_ds, verbose=0)))"
      ],
      "metadata": {
        "id": "D0F4wqU26zqV",
        "colab": {
          "base_uri": "https://localhost:8080/"
        },
        "outputId": "b92ad838-5e2a-4b48-d752-0a93404ff070"
      },
      "execution_count": 22,
      "outputs": [
        {
          "output_type": "stream",
          "name": "stdout",
          "text": [
            "Epoch 1/30\n",
            "\u001b[1m375/375\u001b[0m \u001b[32m━━━━━━━━━━━━━━━━━━━━\u001b[0m\u001b[37m\u001b[0m \u001b[1m57s\u001b[0m 135ms/step - accuracy: 0.3188 - loss: 0.9954 - val_accuracy: 0.5157\n",
            "Epoch 2/30\n",
            "\u001b[1m375/375\u001b[0m \u001b[32m━━━━━━━━━━━━━━━━━━━━\u001b[0m\u001b[37m\u001b[0m \u001b[1m50s\u001b[0m 133ms/step - accuracy: 0.5302 - loss: 0.6857 - val_accuracy: 0.5657\n",
            "Epoch 3/30\n",
            "\u001b[1m375/375\u001b[0m \u001b[32m━━━━━━━━━━━━━━━━━━━━\u001b[0m\u001b[37m\u001b[0m \u001b[1m49s\u001b[0m 130ms/step - accuracy: 0.5862 - loss: 0.6103 - val_accuracy: 0.5857\n",
            "Epoch 4/30\n",
            "\u001b[1m375/375\u001b[0m \u001b[32m━━━━━━━━━━━━━━━━━━━━\u001b[0m\u001b[37m\u001b[0m \u001b[1m50s\u001b[0m 132ms/step - accuracy: 0.6237 - loss: 0.5603 - val_accuracy: 0.5820\n",
            "Epoch 5/30\n",
            "\u001b[1m375/375\u001b[0m \u001b[32m━━━━━━━━━━━━━━━━━━━━\u001b[0m\u001b[37m\u001b[0m \u001b[1m48s\u001b[0m 129ms/step - accuracy: 0.6522 - loss: 0.5278 - val_accuracy: 0.6203\n",
            "Epoch 6/30\n",
            "\u001b[1m375/375\u001b[0m \u001b[32m━━━━━━━━━━━━━━━━━━━━\u001b[0m\u001b[37m\u001b[0m \u001b[1m48s\u001b[0m 127ms/step - accuracy: 0.6917 - loss: 0.4655 - val_accuracy: 0.6337\n",
            "Epoch 7/30\n",
            "\u001b[1m375/375\u001b[0m \u001b[32m━━━━━━━━━━━━━━━━━━━━\u001b[0m\u001b[37m\u001b[0m \u001b[1m82s\u001b[0m 129ms/step - accuracy: 0.7118 - loss: 0.4374 - val_accuracy: 0.6480\n",
            "Epoch 8/30\n",
            "\u001b[1m375/375\u001b[0m \u001b[32m━━━━━━━━━━━━━━━━━━━━\u001b[0m\u001b[37m\u001b[0m \u001b[1m82s\u001b[0m 130ms/step - accuracy: 0.7380 - loss: 0.3875 - val_accuracy: 0.6567\n",
            "Epoch 9/30\n",
            "\u001b[1m375/375\u001b[0m \u001b[32m━━━━━━━━━━━━━━━━━━━━\u001b[0m\u001b[37m\u001b[0m \u001b[1m47s\u001b[0m 126ms/step - accuracy: 0.7579 - loss: 0.3666 - val_accuracy: 0.6260\n",
            "Epoch 10/30\n",
            "\u001b[1m375/375\u001b[0m \u001b[32m━━━━━━━━━━━━━━━━━━━━\u001b[0m\u001b[37m\u001b[0m \u001b[1m48s\u001b[0m 129ms/step - accuracy: 0.7759 - loss: 0.3345 - val_accuracy: 0.6560\n",
            "Epoch 11/30\n",
            "\u001b[1m375/375\u001b[0m \u001b[32m━━━━━━━━━━━━━━━━━━━━\u001b[0m\u001b[37m\u001b[0m \u001b[1m50s\u001b[0m 133ms/step - accuracy: 0.8059 - loss: 0.2955 - val_accuracy: 0.6487\n",
            "Epoch 12/30\n",
            "\u001b[1m375/375\u001b[0m \u001b[32m━━━━━━━━━━━━━━━━━━━━\u001b[0m\u001b[37m\u001b[0m \u001b[1m47s\u001b[0m 125ms/step - accuracy: 0.8189 - loss: 0.2752 - val_accuracy: 0.6550\n",
            "Epoch 13/30\n",
            "\u001b[1m375/375\u001b[0m \u001b[32m━━━━━━━━━━━━━━━━━━━━\u001b[0m\u001b[37m\u001b[0m \u001b[1m48s\u001b[0m 129ms/step - accuracy: 0.8364 - loss: 0.2491 - val_accuracy: 0.6440\n",
            "Epoch 14/30\n",
            "\u001b[1m375/375\u001b[0m \u001b[32m━━━━━━━━━━━━━━━━━━━━\u001b[0m\u001b[37m\u001b[0m \u001b[1m47s\u001b[0m 124ms/step - accuracy: 0.8533 - loss: 0.2206 - val_accuracy: 0.6573\n",
            "Epoch 15/30\n",
            "\u001b[1m375/375\u001b[0m \u001b[32m━━━━━━━━━━━━━━━━━━━━\u001b[0m\u001b[37m\u001b[0m \u001b[1m49s\u001b[0m 130ms/step - accuracy: 0.8636 - loss: 0.2067 - val_accuracy: 0.6273\n",
            "Epoch 16/30\n",
            "\u001b[1m375/375\u001b[0m \u001b[32m━━━━━━━━━━━━━━━━━━━━\u001b[0m\u001b[37m\u001b[0m \u001b[1m47s\u001b[0m 126ms/step - accuracy: 0.8702 - loss: 0.1980 - val_accuracy: 0.6373\n",
            "Epoch 17/30\n",
            "\u001b[1m375/375\u001b[0m \u001b[32m━━━━━━━━━━━━━━━━━━━━\u001b[0m\u001b[37m\u001b[0m \u001b[1m49s\u001b[0m 131ms/step - accuracy: 0.8829 - loss: 0.1780 - val_accuracy: 0.6580\n",
            "Epoch 18/30\n",
            "\u001b[1m375/375\u001b[0m \u001b[32m━━━━━━━━━━━━━━━━━━━━\u001b[0m\u001b[37m\u001b[0m \u001b[1m50s\u001b[0m 133ms/step - accuracy: 0.8838 - loss: 0.1809 - val_accuracy: 0.6513\n",
            "Epoch 19/30\n",
            "\u001b[1m375/375\u001b[0m \u001b[32m━━━━━━━━━━━━━━━━━━━━\u001b[0m\u001b[37m\u001b[0m \u001b[1m48s\u001b[0m 128ms/step - accuracy: 0.8974 - loss: 0.1577 - val_accuracy: 0.6610\n",
            "Epoch 20/30\n",
            "\u001b[1m375/375\u001b[0m \u001b[32m━━━━━━━━━━━━━━━━━━━━\u001b[0m\u001b[37m\u001b[0m \u001b[1m49s\u001b[0m 130ms/step - accuracy: 0.9069 - loss: 0.1448 - val_accuracy: 0.6530\n",
            "Epoch 21/30\n",
            "\u001b[1m375/375\u001b[0m \u001b[32m━━━━━━━━━━━━━━━━━━━━\u001b[0m\u001b[37m\u001b[0m \u001b[1m47s\u001b[0m 125ms/step - accuracy: 0.9094 - loss: 0.1418 - val_accuracy: 0.6367\n",
            "Epoch 22/30\n",
            "\u001b[1m375/375\u001b[0m \u001b[32m━━━━━━━━━━━━━━━━━━━━\u001b[0m\u001b[37m\u001b[0m \u001b[1m50s\u001b[0m 133ms/step - accuracy: 0.9201 - loss: 0.1220 - val_accuracy: 0.6500\n",
            "Epoch 23/30\n",
            "\u001b[1m375/375\u001b[0m \u001b[32m━━━━━━━━━━━━━━━━━━━━\u001b[0m\u001b[37m\u001b[0m \u001b[1m79s\u001b[0m 126ms/step - accuracy: 0.9232 - loss: 0.1199 - val_accuracy: 0.6527\n",
            "Epoch 24/30\n",
            "\u001b[1m375/375\u001b[0m \u001b[32m━━━━━━━━━━━━━━━━━━━━\u001b[0m\u001b[37m\u001b[0m \u001b[1m49s\u001b[0m 130ms/step - accuracy: 0.9316 - loss: 0.1011 - val_accuracy: 0.6493\n",
            "Epoch 25/30\n",
            "\u001b[1m375/375\u001b[0m \u001b[32m━━━━━━━━━━━━━━━━━━━━\u001b[0m\u001b[37m\u001b[0m \u001b[1m47s\u001b[0m 125ms/step - accuracy: 0.9340 - loss: 0.1005 - val_accuracy: 0.6673\n",
            "Epoch 26/30\n",
            "\u001b[1m375/375\u001b[0m \u001b[32m━━━━━━━━━━━━━━━━━━━━\u001b[0m\u001b[37m\u001b[0m \u001b[1m48s\u001b[0m 128ms/step - accuracy: 0.9283 - loss: 0.1097 - val_accuracy: 0.6590\n",
            "Epoch 27/30\n",
            "\u001b[1m375/375\u001b[0m \u001b[32m━━━━━━━━━━━━━━━━━━━━\u001b[0m\u001b[37m\u001b[0m \u001b[1m48s\u001b[0m 128ms/step - accuracy: 0.9392 - loss: 0.0974 - val_accuracy: 0.6707\n",
            "Epoch 28/30\n",
            "\u001b[1m375/375\u001b[0m \u001b[32m━━━━━━━━━━━━━━━━━━━━\u001b[0m\u001b[37m\u001b[0m \u001b[1m84s\u001b[0m 132ms/step - accuracy: 0.9418 - loss: 0.0883 - val_accuracy: 0.6650\n",
            "Epoch 29/30\n",
            "\u001b[1m375/375\u001b[0m \u001b[32m━━━━━━━━━━━━━━━━━━━━\u001b[0m\u001b[37m\u001b[0m \u001b[1m50s\u001b[0m 133ms/step - accuracy: 0.9439 - loss: 0.0843 - val_accuracy: 0.6507\n",
            "Epoch 30/30\n",
            "\u001b[1m375/375\u001b[0m \u001b[32m━━━━━━━━━━━━━━━━━━━━\u001b[0m\u001b[37m\u001b[0m \u001b[1m47s\u001b[0m 124ms/step - accuracy: 0.9408 - loss: 0.0885 - val_accuracy: 0.6497\n",
            "Restoring model weights from the end of the best epoch: 27.\n",
            "Epoch 1/30\n",
            "\u001b[1m375/375\u001b[0m \u001b[32m━━━━━━━━━━━━━━━━━━━━\u001b[0m\u001b[37m\u001b[0m \u001b[1m62s\u001b[0m 136ms/step - accuracy: 0.3151 - loss: 0.9745 - val_accuracy: 0.4880\n",
            "Epoch 2/30\n",
            "\u001b[1m375/375\u001b[0m \u001b[32m━━━━━━━━━━━━━━━━━━━━\u001b[0m\u001b[37m\u001b[0m \u001b[1m48s\u001b[0m 129ms/step - accuracy: 0.5125 - loss: 0.7165 - val_accuracy: 0.5360\n",
            "Epoch 3/30\n",
            "\u001b[1m375/375\u001b[0m \u001b[32m━━━━━━━━━━━━━━━━━━━━\u001b[0m\u001b[37m\u001b[0m \u001b[1m49s\u001b[0m 130ms/step - accuracy: 0.5695 - loss: 0.6366 - val_accuracy: 0.5700\n",
            "Epoch 4/30\n",
            "\u001b[1m375/375\u001b[0m \u001b[32m━━━━━━━━━━━━━━━━━━━━\u001b[0m\u001b[37m\u001b[0m \u001b[1m48s\u001b[0m 127ms/step - accuracy: 0.6179 - loss: 0.5687 - val_accuracy: 0.6003\n",
            "Epoch 5/30\n",
            "\u001b[1m375/375\u001b[0m \u001b[32m━━━━━━━━━━━━━━━━━━━━\u001b[0m\u001b[37m\u001b[0m \u001b[1m49s\u001b[0m 130ms/step - accuracy: 0.6495 - loss: 0.5179 - val_accuracy: 0.6290\n",
            "Epoch 6/30\n",
            "\u001b[1m375/375\u001b[0m \u001b[32m━━━━━━━━━━━━━━━━━━━━\u001b[0m\u001b[37m\u001b[0m \u001b[1m50s\u001b[0m 133ms/step - accuracy: 0.6744 - loss: 0.4845 - val_accuracy: 0.6410\n",
            "Epoch 7/30\n",
            "\u001b[1m375/375\u001b[0m \u001b[32m━━━━━━━━━━━━━━━━━━━━\u001b[0m\u001b[37m\u001b[0m \u001b[1m50s\u001b[0m 134ms/step - accuracy: 0.7121 - loss: 0.4363 - val_accuracy: 0.6300\n",
            "Epoch 8/30\n",
            "\u001b[1m375/375\u001b[0m \u001b[32m━━━━━━━━━━━━━━━━━━━━\u001b[0m\u001b[37m\u001b[0m \u001b[1m48s\u001b[0m 127ms/step - accuracy: 0.7248 - loss: 0.4108 - val_accuracy: 0.6530\n",
            "Epoch 9/30\n",
            "\u001b[1m375/375\u001b[0m \u001b[32m━━━━━━━━━━━━━━━━━━━━\u001b[0m\u001b[37m\u001b[0m \u001b[1m50s\u001b[0m 132ms/step - accuracy: 0.7622 - loss: 0.3728 - val_accuracy: 0.6503\n",
            "Epoch 10/30\n",
            "\u001b[1m375/375\u001b[0m \u001b[32m━━━━━━━━━━━━━━━━━━━━\u001b[0m\u001b[37m\u001b[0m \u001b[1m50s\u001b[0m 132ms/step - accuracy: 0.7714 - loss: 0.3441 - val_accuracy: 0.6510\n",
            "Epoch 11/30\n",
            "\u001b[1m375/375\u001b[0m \u001b[32m━━━━━━━━━━━━━━━━━━━━\u001b[0m\u001b[37m\u001b[0m \u001b[1m83s\u001b[0m 134ms/step - accuracy: 0.7892 - loss: 0.3154 - val_accuracy: 0.6540\n",
            "Epoch 12/30\n",
            "\u001b[1m375/375\u001b[0m \u001b[32m━━━━━━━━━━━━━━━━━━━━\u001b[0m\u001b[37m\u001b[0m \u001b[1m51s\u001b[0m 137ms/step - accuracy: 0.8021 - loss: 0.3007 - val_accuracy: 0.6410\n",
            "Epoch 13/30\n",
            "\u001b[1m375/375\u001b[0m \u001b[32m━━━━━━━━━━━━━━━━━━━━\u001b[0m\u001b[37m\u001b[0m \u001b[1m49s\u001b[0m 130ms/step - accuracy: 0.8132 - loss: 0.2768 - val_accuracy: 0.6600\n",
            "Epoch 14/30\n",
            "\u001b[1m375/375\u001b[0m \u001b[32m━━━━━━━━━━━━━━━━━━━━\u001b[0m\u001b[37m\u001b[0m \u001b[1m50s\u001b[0m 133ms/step - accuracy: 0.8413 - loss: 0.2487 - val_accuracy: 0.6587\n",
            "Epoch 15/30\n",
            "\u001b[1m375/375\u001b[0m \u001b[32m━━━━━━━━━━━━━━━━━━━━\u001b[0m\u001b[37m\u001b[0m \u001b[1m50s\u001b[0m 133ms/step - accuracy: 0.8495 - loss: 0.2333 - val_accuracy: 0.6547\n",
            "Epoch 16/30\n",
            "\u001b[1m375/375\u001b[0m \u001b[32m━━━━━━━━━━━━━━━━━━━━\u001b[0m\u001b[37m\u001b[0m \u001b[1m82s\u001b[0m 135ms/step - accuracy: 0.8542 - loss: 0.2239 - val_accuracy: 0.6467\n",
            "Epoch 17/30\n",
            "\u001b[1m375/375\u001b[0m \u001b[32m━━━━━━━━━━━━━━━━━━━━\u001b[0m\u001b[37m\u001b[0m \u001b[1m51s\u001b[0m 136ms/step - accuracy: 0.8668 - loss: 0.2049 - val_accuracy: 0.6660\n",
            "Epoch 18/30\n",
            "\u001b[1m375/375\u001b[0m \u001b[32m━━━━━━━━━━━━━━━━━━━━\u001b[0m\u001b[37m\u001b[0m \u001b[1m49s\u001b[0m 130ms/step - accuracy: 0.8775 - loss: 0.1849 - val_accuracy: 0.6437\n",
            "Epoch 19/30\n",
            "\u001b[1m375/375\u001b[0m \u001b[32m━━━━━━━━━━━━━━━━━━━━\u001b[0m\u001b[37m\u001b[0m \u001b[1m51s\u001b[0m 135ms/step - accuracy: 0.8824 - loss: 0.1754 - val_accuracy: 0.6807\n",
            "Epoch 20/30\n",
            "\u001b[1m375/375\u001b[0m \u001b[32m━━━━━━━━━━━━━━━━━━━━\u001b[0m\u001b[37m\u001b[0m \u001b[1m50s\u001b[0m 134ms/step - accuracy: 0.8921 - loss: 0.1667 - val_accuracy: 0.6540\n",
            "Epoch 21/30\n",
            "\u001b[1m375/375\u001b[0m \u001b[32m━━━━━━━━━━━━━━━━━━━━\u001b[0m\u001b[37m\u001b[0m \u001b[1m52s\u001b[0m 138ms/step - accuracy: 0.8977 - loss: 0.1601 - val_accuracy: 0.6463\n",
            "Epoch 22/30\n",
            "\u001b[1m375/375\u001b[0m \u001b[32m━━━━━━━━━━━━━━━━━━━━\u001b[0m\u001b[37m\u001b[0m \u001b[1m49s\u001b[0m 131ms/step - accuracy: 0.9048 - loss: 0.1450 - val_accuracy: 0.6600\n",
            "Epoch 23/30\n",
            "\u001b[1m375/375\u001b[0m \u001b[32m━━━━━━━━━━━━━━━━━━━━\u001b[0m\u001b[37m\u001b[0m \u001b[1m51s\u001b[0m 136ms/step - accuracy: 0.9043 - loss: 0.1518 - val_accuracy: 0.6597\n",
            "Epoch 24/30\n",
            "\u001b[1m375/375\u001b[0m \u001b[32m━━━━━━━━━━━━━━━━━━━━\u001b[0m\u001b[37m\u001b[0m \u001b[1m51s\u001b[0m 135ms/step - accuracy: 0.9177 - loss: 0.1272 - val_accuracy: 0.6647\n",
            "Epoch 25/30\n",
            "\u001b[1m375/375\u001b[0m \u001b[32m━━━━━━━━━━━━━━━━━━━━\u001b[0m\u001b[37m\u001b[0m \u001b[1m52s\u001b[0m 138ms/step - accuracy: 0.9144 - loss: 0.1273 - val_accuracy: 0.6543\n",
            "Epoch 26/30\n",
            "\u001b[1m375/375\u001b[0m \u001b[32m━━━━━━━━━━━━━━━━━━━━\u001b[0m\u001b[37m\u001b[0m \u001b[1m49s\u001b[0m 131ms/step - accuracy: 0.9170 - loss: 0.1278 - val_accuracy: 0.6533\n",
            "Epoch 27/30\n",
            "\u001b[1m375/375\u001b[0m \u001b[32m━━━━━━━━━━━━━━━━━━━━\u001b[0m\u001b[37m\u001b[0m \u001b[1m51s\u001b[0m 135ms/step - accuracy: 0.9192 - loss: 0.1206 - val_accuracy: 0.6493\n",
            "Epoch 28/30\n",
            "\u001b[1m375/375\u001b[0m \u001b[32m━━━━━━━━━━━━━━━━━━━━\u001b[0m\u001b[37m\u001b[0m \u001b[1m51s\u001b[0m 135ms/step - accuracy: 0.9355 - loss: 0.0983 - val_accuracy: 0.6600\n",
            "Epoch 29/30\n",
            "\u001b[1m375/375\u001b[0m \u001b[32m━━━━━━━━━━━━━━━━━━━━\u001b[0m\u001b[37m\u001b[0m \u001b[1m49s\u001b[0m 130ms/step - accuracy: 0.9355 - loss: 0.0986 - val_accuracy: 0.6460\n",
            "Epoch 29: early stopping\n",
            "Restoring model weights from the end of the best epoch: 19.\n"
          ]
        }
      ]
    },
    {
      "cell_type": "code",
      "source": [
        "\n",
        "### ========== PLOT RESULTS ==========\n",
        "labels = [\n",
        "    \"Teacher MobileNetV2\", \"Teacher MobileNetV3\", \"Student Baseline\",\n",
        "    \"Distilled (Single Teacher)\", \"Distilled (Multi-Teacher)\"\n",
        "]\n",
        "\n",
        "plot_order = [\"teacher_mobilenet2\", \"teacher_mobilenet3\", \"student_baseline\", \"student_single\", \"student_multi\"]\n",
        "accs = [eval_results[k]['acc'] for k in plot_order]\n",
        "losses = [eval_results[k]['loss'] for k in plot_order]\n",
        "colors = ['forestgreen', 'lightgreen', 'royalblue', 'darkorange', 'sandybrown']\n",
        "\n",
        "fig, axs = plt.subplots(2, 1, figsize=(10, 10))\n",
        "axs[0].bar(labels, accs, color=colors)\n",
        "axs[0].set_ylim(0, 1)\n",
        "axs[0].set_title('Test Accuracy Comparison')\n",
        "axs[0].set_ylabel('Accuracy')\n",
        "for i, val in enumerate(accs): axs[0].text(i, val + 0.01, f\"{val:.3f}\", ha='center')\n",
        "\n",
        "axs[1].bar(labels, losses, color=colors)\n",
        "axs[1].set_ylim(0, max(losses) + 0.2)\n",
        "axs[1].set_title('Test Loss Comparison')\n",
        "axs[1].set_ylabel('Loss')\n",
        "for i, val in enumerate(losses): axs[1].text(i, val + 0.02, f\"{val:.3f}\", ha='center')\n",
        "\n",
        "plt.tight_layout()\n",
        "plt.show()\n"
      ],
      "metadata": {
        "colab": {
          "base_uri": "https://localhost:8080/",
          "height": 1000
        },
        "id": "XwYpbsZUpoF5",
        "outputId": "609a5575-0295-4b32-f55b-568f839da2d7"
      },
      "execution_count": 24,
      "outputs": [
        {
          "output_type": "display_data",
          "data": {
            "text/plain": [
              "<Figure size 1000x1000 with 2 Axes>"
            ],
            "image/png": "[encoded data removed]"
          },
          "metadata": {}
        }
      ]
    },
    {
      "cell_type": "code",
      "source": [
        "teacher_mobilenet3l = build_teacher_model(MobileNetV3Large, num_classes=num_classes)\n",
        "\n",
        "models_to_train = {\n",
        "    \"teacher_mobilenet3l\": teacher_mobilenet3l,\n",
        "    \"student_multil\": build_student_model(num_classes=num_classes),\n",
        "}\n",
        "\n",
        "for name, model in models_to_train.items():\n",
        "    model.compile(optimizer='adam', loss='categorical_crossentropy', metrics=['accuracy'])\n",
        "    if \"teacher\" in name or \"student_baseline\" in name:\n",
        "        cb = tf.keras.callbacks.EarlyStopping(monitor='val_accuracy', patience=10, restore_best_weights=True, verbose=1)\n",
        "        histories[name] = model.fit(train_ds, validation_data=test_ds, epochs=30, callbacks=[cb])\n",
        "        # model.load_weights(...) removed due to restore_best_weights=True\n",
        "        eval_results[name] = dict(zip(['loss', 'acc'], model.evaluate(test_ds, verbose=0)))\n"
      ],
      "metadata": {
        "id": "49nCi0MG0umZ",
        "colab": {
          "base_uri": "https://localhost:8080/"
        },
        "outputId": "cb69cc90-bc0f-4c0b-c63d-b6e6bacf0add"
      },
      "execution_count": null,
      "outputs": [
        {
          "output_type": "stream",
          "name": "stderr",
          "text": [
            "/usr/local/lib/python3.11/dist-packages/keras/src/applications/mobilenet_v3.py:517: UserWarning: `input_shape` is undefined or non-square, or `rows` is not 224. Weights for input shape (224, 224) will be loaded as the default.\n",
            "  return MobileNetV3(\n"
          ]
        },
        {
          "output_type": "stream",
          "name": "stdout",
          "text": [
            "Downloading data from https://storage.googleapis.com/tensorflow/keras-applications/mobilenet_v3/weights_mobilenet_v3_large_224_1.0_float_no_top_v2.h5\n",
            "\u001b[1m12683000/12683000\u001b[0m \u001b[32m━━━━━━━━━━━━━━━━━━━━\u001b[0m\u001b[37m\u001b[0m \u001b[1m0s\u001b[0m 0us/step\n"
          ]
        },
        {
          "output_type": "stream",
          "name": "stderr",
          "text": [
            "/usr/local/lib/python3.11/dist-packages/keras/src/layers/convolutional/base_conv.py:107: UserWarning: Do not pass an `input_shape`/`input_dim` argument to a layer. When using Sequential models, prefer using an `Input(shape)` object as the first layer in the model instead.\n",
            "  super().__init__(activity_regularizer=activity_regularizer, **kwargs)\n"
          ]
        },
        {
          "output_type": "stream",
          "name": "stdout",
          "text": [
            "Epoch 1/30\n",
            "\u001b[1m375/375\u001b[0m \u001b[32m━━━━━━━━━━━━━━━━━━━━\u001b[0m\u001b[37m\u001b[0m \u001b[1m67s\u001b[0m 146ms/step - accuracy: 0.2101 - loss: 2.2340 - val_accuracy: 0.0950 - val_loss: 2.4191\n",
            "Epoch 2/30\n",
            "\u001b[1m375/375\u001b[0m \u001b[32m━━━━━━━━━━━━━━━━━━━━\u001b[0m\u001b[37m\u001b[0m \u001b[1m45s\u001b[0m 120ms/step - accuracy: 0.3017 - loss: 1.9822 - val_accuracy: 0.1377 - val_loss: 2.3299\n",
            "Epoch 3/30\n",
            "\u001b[1m375/375\u001b[0m \u001b[32m━━━━━━━━━━━━━━━━━━━━\u001b[0m\u001b[37m\u001b[0m \u001b[1m47s\u001b[0m 124ms/step - accuracy: 0.3328 - loss: 1.9170 - val_accuracy: 0.1750 - val_loss: 2.3341\n",
            "Epoch 4/30\n",
            "\u001b[1m375/375\u001b[0m \u001b[32m━━━━━━━━━━━━━━━━━━━━\u001b[0m\u001b[37m\u001b[0m \u001b[1m45s\u001b[0m 120ms/step - accuracy: 0.3482 - loss: 1.8840 - val_accuracy: 0.1520 - val_loss: 2.3203\n",
            "Epoch 5/30\n",
            "\u001b[1m375/375\u001b[0m \u001b[32m━━━━━━━━━━━━━━━━━━━━\u001b[0m\u001b[37m\u001b[0m \u001b[1m45s\u001b[0m 121ms/step - accuracy: 0.3681 - loss: 1.8495 - val_accuracy: 0.1347 - val_loss: 2.2532\n",
            "Epoch 6/30\n",
            "\u001b[1m375/375\u001b[0m \u001b[32m━━━━━━━━━━━━━━━━━━━━\u001b[0m\u001b[37m\u001b[0m \u001b[1m46s\u001b[0m 123ms/step - accuracy: 0.3658 - loss: 1.8236 - val_accuracy: 0.1623 - val_loss: 2.4829\n",
            "Epoch 7/30\n",
            "\u001b[1m375/375\u001b[0m \u001b[32m━━━━━━━━━━━━━━━━━━━━\u001b[0m\u001b[37m\u001b[0m \u001b[1m46s\u001b[0m 122ms/step - accuracy: 0.3808 - loss: 1.8134 - val_accuracy: 0.1400 - val_loss: 3.6391\n",
            "Epoch 8/30\n",
            "\u001b[1m375/375\u001b[0m \u001b[32m━━━━━━━━━━━━━━━━━━━━\u001b[0m\u001b[37m\u001b[0m \u001b[1m48s\u001b[0m 128ms/step - accuracy: 0.3879 - loss: 1.7815 - val_accuracy: 0.1947 - val_loss: 2.7174\n",
            "Epoch 9/30\n",
            "\u001b[1m375/375\u001b[0m \u001b[32m━━━━━━━━━━━━━━━━━━━━\u001b[0m\u001b[37m\u001b[0m \u001b[1m45s\u001b[0m 121ms/step - accuracy: 0.3919 - loss: 1.7577 - val_accuracy: 0.2157 - val_loss: 2.5949\n",
            "Epoch 10/30\n",
            "\u001b[1m375/375\u001b[0m \u001b[32m━━━━━━━━━━━━━━━━━━━━\u001b[0m\u001b[37m\u001b[0m \u001b[1m47s\u001b[0m 125ms/step - accuracy: 0.3966 - loss: 1.7581 - val_accuracy: 0.2017 - val_loss: 3.0595\n",
            "Epoch 11/30\n",
            "\u001b[1m375/375\u001b[0m \u001b[32m━━━━━━━━━━━━━━━━━━━━\u001b[0m\u001b[37m\u001b[0m \u001b[1m45s\u001b[0m 120ms/step - accuracy: 0.4020 - loss: 1.7242 - val_accuracy: 0.1987 - val_loss: 3.7454\n",
            "Epoch 12/30\n",
            "\u001b[1m375/375\u001b[0m \u001b[32m━━━━━━━━━━━━━━━━━━━━\u001b[0m\u001b[37m\u001b[0m \u001b[1m48s\u001b[0m 127ms/step - accuracy: 0.4052 - loss: 1.7225 - val_accuracy: 0.2403 - val_loss: 3.5707\n",
            "Epoch 13/30\n",
            "\u001b[1m375/375\u001b[0m \u001b[32m━━━━━━━━━━━━━━━━━━━━\u001b[0m\u001b[37m\u001b[0m \u001b[1m45s\u001b[0m 121ms/step - accuracy: 0.4241 - loss: 1.6918 - val_accuracy: 0.1373 - val_loss: 5.0139\n",
            "Epoch 14/30\n",
            "\u001b[1m375/375\u001b[0m \u001b[32m━━━━━━━━━━━━━━━━━━━━\u001b[0m\u001b[37m\u001b[0m \u001b[1m45s\u001b[0m 120ms/step - accuracy: 0.4145 - loss: 1.7059 - val_accuracy: 0.2000 - val_loss: 3.8388\n",
            "Epoch 15/30\n",
            "\u001b[1m375/375\u001b[0m \u001b[32m━━━━━━━━━━━━━━━━━━━━\u001b[0m\u001b[37m\u001b[0m \u001b[1m46s\u001b[0m 123ms/step - accuracy: 0.4250 - loss: 1.6736 - val_accuracy: 0.1767 - val_loss: 3.3307\n",
            "Epoch 16/30\n",
            "\u001b[1m375/375\u001b[0m \u001b[32m━━━━━━━━━━━━━━━━━━━━\u001b[0m\u001b[37m\u001b[0m \u001b[1m45s\u001b[0m 120ms/step - accuracy: 0.4241 - loss: 1.6735 - val_accuracy: 0.2620 - val_loss: 2.4969\n",
            "Epoch 17/30\n",
            "\u001b[1m340/375\u001b[0m \u001b[32m━━━━━━━━━━━━━━━━━━\u001b[0m\u001b[37m━━\u001b[0m \u001b[1m3s\u001b[0m 105ms/step - accuracy: 0.4284 - loss: 1.6704"
          ]
        }
      ]
    },
    {
      "cell_type": "code",
      "source": [
        "\n",
        "# Distill from both teachers\n",
        "distill_multil = MultiTeacherDistiller(student=models_to_train[\"student_multil\"], teacher1=teacher_mobilenet2, teacher2=teacher_mobilenet3l)\n",
        "distill_multil.compile(optimizer='adam')\n",
        "distill_multil.fit(train_ds, validation_data=test_ds, epochs=30,\n",
        "                  callbacks=[tf.keras.callbacks.EarlyStopping(monitor='val_accuracy', mode='max', patience=10, restore_best_weights=True, verbose=1)])\n",
        "# Removed: restore_best_weights=True handles loading best weights\n",
        "eval_results[\"student_multil\"] = dict(zip(['loss', 'acc'], models_to_train[\"student_multil\"].evaluate(test_ds, verbose=0)))"
      ],
      "metadata": {
        "id": "37UJL_Vtq6fZ"
      },
      "execution_count": null,
      "outputs": []
    },
    {
      "cell_type": "code",
      "source": [
        "\n",
        "### ========== PLOT RESULTS ==========\n",
        "labels = [\n",
        "    \"Teacher MobileNetV2\", \"Teacher MobileNetV3L\", \"Student Baseline\",\n",
        "    \"Distilled (Single Teacher)\", \"Distilled (Multi-Teacher)\"\n",
        "]\n",
        "\n",
        "plot_order = [\"teacher_mobilenet2\", \"teacher_mobilenet3l\", \"student_baseline\", \"student_single\", \"student_multi\"]\n",
        "accs = [eval_results[k]['acc'] for k in plot_order]\n",
        "losses = [eval_results[k]['loss'] for k in plot_order]\n",
        "colors = ['forestgreen', 'lightgreen', 'royalblue', 'darkorange', 'sandybrown']\n",
        "\n",
        "fig, axs = plt.subplots(2, 1, figsize=(10, 10))\n",
        "axs[0].bar(labels, accs, color=colors)\n",
        "axs[0].set_ylim(0, 1)\n",
        "axs[0].set_title('Test Accuracy Comparison')\n",
        "axs[0].set_ylabel('Accuracy')\n",
        "for i, val in enumerate(accs): axs[0].text(i, val + 0.01, f\"{val:.3f}\", ha='center')\n",
        "\n",
        "axs[1].bar(labels, losses, color=colors)\n",
        "axs[1].set_ylim(0, max(losses) + 0.2)\n",
        "axs[1].set_title('Test Loss Comparison')\n",
        "axs[1].set_ylabel('Loss')\n",
        "for i, val in enumerate(losses): axs[1].text(i, val + 0.02, f\"{val:.3f}\", ha='center')\n",
        "\n",
        "plt.tight_layout()\n",
        "plt.show()\n"
      ],
      "metadata": {
        "id": "PE3xLgrerwHF"
      },
      "execution_count": null,
      "outputs": []
    },
    {
      "cell_type": "code",
      "source": [],
      "metadata": {
        "id": "jf_74t15yCem"
      },
      "execution_count": null,
      "outputs": []
    }
  ]
}